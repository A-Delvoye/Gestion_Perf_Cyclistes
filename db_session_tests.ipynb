{
 "cells": [
  {
   "cell_type": "code",
   "execution_count": 1,
   "metadata": {},
   "outputs": [
    {
     "name": "stdout",
     "output_type": "stream",
     "text": [
      "Table 'utilisateurs' créée avec succès !\n",
      "Table 'jetons_valides' créée avec succès !\n"
     ]
    }
   ],
   "source": [
    "import sqlite3\n",
    "\n",
    "database_path = \"db/gest_perf_cycl.db\"\n",
    "\n",
    "# Connexion à la base de données (créée si elle n'existe pas)\n",
    "with sqlite3.connect(database_path) as conn :\n",
    "    cursor = conn.cursor()\n",
    "\n",
    "    table_name = \"utilisateurs\"\n",
    "    cursor.execute(f\"DROP TABLE IF EXISTS {table_name}\")\n",
    "    conn.commit()\n",
    "\n",
    "    # Création de la table user\n",
    "    \n",
    "    cursor.execute(f\"\"\"\n",
    "        CREATE TABLE IF NOT EXISTS {table_name} (\n",
    "            id INTEGER NOT NULL, \n",
    "            username VARCHAR NOT NULL, \n",
    "            email VARCHAR, \n",
    "            password_hash VARCHAR NOT NULL, \n",
    "            role VARCHAR NOT NULL, \n",
    "            PRIMARY KEY (id)\n",
    "        );\n",
    "    \"\"\")\n",
    "\n",
    "    conn.commit()\n",
    "    print(f\"Table '{table_name}' créée avec succès !\")\n",
    "\n",
    "\n",
    "    table_name = \"jetons_valides\"\n",
    "    cursor.execute(f\"DROP TABLE IF EXISTS {table_name}\")\n",
    "    conn.commit()\n",
    "\n",
    "    # Création de la table token \n",
    "    cursor.execute(f\"\"\"\n",
    "        CREATE TABLE {table_name} (\n",
    "            id INTEGER NOT NULL, \n",
    "            expiration DATETIME NOT NULL, \n",
    "            jeton VARCHAR NOT NULL, \n",
    "            PRIMARY KEY (id)\n",
    "        );\n",
    "    \"\"\")\n",
    "\n",
    "    conn.commit()\n",
    "    print(f\"Table '{table_name}' créée avec succès !\")\n"
   ]
  },
  {
   "cell_type": "code",
   "execution_count": 2,
   "metadata": {},
   "outputs": [
    {
     "name": "stdout",
     "output_type": "stream",
     "text": [
      "Utilisateur admin créé succès !\n"
     ]
    }
   ],
   "source": [
    "from core.password_tools import get_password_hash\n",
    "\n",
    "with sqlite3.connect(database_path) as conn :\n",
    "    cursor = conn.cursor()\n",
    "    \n",
    "    password_hash = get_password_hash(\"admin\")\n",
    "\n",
    "    admin_values = (\"admin\", \"admin@admin.com\", password_hash, \"admin\")\n",
    "    \n",
    "    table_name = \"Utilisateurs\"\n",
    "    cursor.execute(f\"\"\"\n",
    "        INSERT INTO {table_name} (username, email, password_hash, role ) \n",
    "        VALUES (?, ?, ?, ?) \"\"\", admin_values )\n",
    "\n",
    "    conn.commit()\n",
    "    print(f\"Utilisateur {admin_values[0]} créé succès !\")\n",
    "\n",
    "\n"
   ]
  },
  {
   "cell_type": "code",
   "execution_count": 3,
   "metadata": {},
   "outputs": [
    {
     "name": "stdout",
     "output_type": "stream",
     "text": [
      "5 users ajoutés\n"
     ]
    }
   ],
   "source": [
    "from db.db_session import DB_Session\n",
    "from models.utilisateur_db import UtilisateurDB\n",
    "\n",
    "from core.password_tools import get_password_hash\n",
    "\n",
    "db_session = DB_Session()\n",
    "\n",
    "users = [ \n",
    "    (\"Julian Dupont\", \"jul@yan.com\", get_password_hash(\"Julian\")),\n",
    "    (\"Tadej\", \"tad@ej.com\", get_password_hash(\"Tadej\")),\n",
    "    (\"Jonas\", \"jon@as.com\", get_password_hash(\"Jonas\")),\n",
    "    (\"Antoine\", \"ant@oine.com\", get_password_hash(\"Antoine\")),\n",
    "    (\"Nicolas\", \"nic@olas.com\", get_password_hash(\"Nicolas\"))]\n",
    "\n",
    "count=0\n",
    "for user in users :\n",
    "    db_user = UtilisateurDB(\n",
    "        username = user[0], \n",
    "        email = user[1],\n",
    "        password_hash=user[2], \n",
    "        role = str(\"cycliste\"))\n",
    "    \n",
    "    db_session.insert_user(db_user)\n",
    "    count +=1\n",
    "\n",
    "print(f\"{count} users ajoutés\")\n"
   ]
  },
  {
   "cell_type": "code",
   "execution_count": 4,
   "metadata": {},
   "outputs": [
    {
     "name": "stdout",
     "output_type": "stream",
     "text": [
      "id=1 username='admin' email='admin@admin.com' password_hash='$2b$12$db83bSLaf0WGT1.BK1H7EOHluv225Q.yxk5dts5Lb/wpgtlXw3sju' role='admin'\n",
      "id=2 username='Julian Dupont' email='jul@yan.com' password_hash='$2b$12$SOqY3Xv1MSCdrTOpLiJx5.t8adpAfAlxjutHwE6FmnHvjH5JJBwwy' role='cycliste'\n",
      "id=3 username='Tadej' email='tad@ej.com' password_hash='$2b$12$8sH/dM2yVQdBBRJlR1.f5eSbEAf1jXz3Rh2MTLTE18jXq89Ne/a42' role='cycliste'\n",
      "id=4 username='Jonas' email='jon@as.com' password_hash='$2b$12$uqoxtgo0qwjsZ5IDC075EeKPC7pz5Qz5pJYyXCxgYUlq9gU2B2SFG' role='cycliste'\n",
      "id=5 username='Antoine' email='ant@oine.com' password_hash='$2b$12$kziasv.BGb0tSE7.VCrAeOfYL4piUza0g0.iaHpGUq44G1.8rBAZ.' role='cycliste'\n",
      "id=6 username='Nicolas' email='nic@olas.com' password_hash='$2b$12$nWHj5NMA.Kbw0CymhbR3o./lvTIerhRtzNUCYiuLtYaFSchnhKn8e' role='cycliste'\n"
     ]
    }
   ],
   "source": [
    "from db.db_session import DB_Session\n",
    "from models.utilisateur_db import UtilisateurDB\n",
    "\n",
    "db_session = DB_Session()\n",
    "\n",
    "for user in db_session.get_user_list() :\n",
    "    print(user)"
   ]
  }
 ],
 "metadata": {
  "kernelspec": {
   "display_name": ".venv",
   "language": "python",
   "name": "python3"
  },
  "language_info": {
   "codemirror_mode": {
    "name": "ipython",
    "version": 3
   },
   "file_extension": ".py",
   "mimetype": "text/x-python",
   "name": "python",
   "nbconvert_exporter": "python",
   "pygments_lexer": "ipython3",
   "version": "3.12.3"
  }
 },
 "nbformat": 4,
 "nbformat_minor": 2
}
