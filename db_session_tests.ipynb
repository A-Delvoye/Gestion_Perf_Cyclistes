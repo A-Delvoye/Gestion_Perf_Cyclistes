{
 "cells": [
  {
   "cell_type": "code",
   "execution_count": 8,
   "metadata": {},
   "outputs": [
    {
     "name": "stdout",
     "output_type": "stream",
     "text": [
      "Table 'user' créée avec succès !\n",
      "Table 'valid_token' créée avec succès !\n"
     ]
    }
   ],
   "source": [
    "import sqlite3\n",
    "\n",
    "database_path = \"db/gest_perf_cycl.db\"\n",
    "\n",
    "# Connexion à la base de données (créée si elle n'existe pas)\n",
    "with sqlite3.connect(database_path) as conn :\n",
    "    cursor = conn.cursor()\n",
    "\n",
    "    # Création de la table user\n",
    "    cursor.execute(\"\"\"\n",
    "        CREATE TABLE IF NOT EXISTS user (\n",
    "            id INTEGER NOT NULL, \n",
    "            username VARCHAR NOT NULL, \n",
    "            email VARCHAR, \n",
    "            password_hash VARCHAR NOT NULL, \n",
    "            role VARCHAR NOT NULL, \n",
    "            PRIMARY KEY (id)\n",
    "        );\n",
    "    \"\"\")\n",
    "\n",
    "    conn.commit()\n",
    "    print(\"Table 'user' créée avec succès !\")\n",
    "\n",
    "    # Création de la table token \n",
    "    cursor.execute(\"\"\"\n",
    "        CREATE TABLE IF NOT EXISTS valid_token (\n",
    "            id INTEGER NOT NULL, \n",
    "            expires DATETIME NOT NULL, \n",
    "            token VARCHAR NOT NULL, \n",
    "            PRIMARY KEY (id)\n",
    "        );\n",
    "    \"\"\")\n",
    "\n",
    "    conn.commit()\n",
    "    print(\"Table 'valid_token' créée avec succès !\")\n"
   ]
  },
  {
   "cell_type": "code",
   "execution_count": 9,
   "metadata": {},
   "outputs": [
    {
     "name": "stdout",
     "output_type": "stream",
     "text": [
      "User admin créé succès !\n"
     ]
    }
   ],
   "source": [
    "from core.password_tools import get_password_hash\n",
    "\n",
    "with sqlite3.connect(database_path) as conn :\n",
    "    cursor = conn.cursor()\n",
    "    \n",
    "    password_hash = get_password_hash(\"admin\")\n",
    "\n",
    "    admin_values = (\"admin\", \"admin@admin.com\", password_hash, \"admin\")\n",
    "    \n",
    "    cursor.execute(\"\"\"\n",
    "        INSERT INTO user (username, email, password_hash, role ) \n",
    "        VALUES (?, ?, ?, ?) \"\"\", admin_values )\n",
    "\n",
    "    conn.commit()\n",
    "    print(f\"User {admin_values[0]} créé succès !\")\n",
    "\n",
    "\n"
   ]
  },
  {
   "cell_type": "code",
   "execution_count": 1,
   "metadata": {},
   "outputs": [
    {
     "ename": "OperationalError",
     "evalue": "near \"Alaphilippe\": syntax error",
     "output_type": "error",
     "traceback": [
      "\u001b[31m---------------------------------------------------------------------------\u001b[39m",
      "\u001b[31mOperationalError\u001b[39m                          Traceback (most recent call last)",
      "\u001b[36mCell\u001b[39m\u001b[36m \u001b[39m\u001b[32mIn[1]\u001b[39m\u001b[32m, line 22\u001b[39m\n\u001b[32m     15\u001b[39m \u001b[38;5;28;01mfor\u001b[39;00m user \u001b[38;5;129;01min\u001b[39;00m users :\n\u001b[32m     16\u001b[39m     db_user = DB_User(\n\u001b[32m     17\u001b[39m         username = user[\u001b[32m0\u001b[39m], \n\u001b[32m     18\u001b[39m         email = user[\u001b[32m1\u001b[39m],\n\u001b[32m     19\u001b[39m         password_hash= user[\u001b[32m2\u001b[39m], \n\u001b[32m     20\u001b[39m         role = \u001b[38;5;28mstr\u001b[39m(\u001b[33m\"\u001b[39m\u001b[33mcycliste\u001b[39m\u001b[33m\"\u001b[39m))\n\u001b[32m---> \u001b[39m\u001b[32m22\u001b[39m     \u001b[43mdb_session\u001b[49m\u001b[43m.\u001b[49m\u001b[43minsert_user\u001b[49m\u001b[43m(\u001b[49m\u001b[43mdb_user\u001b[49m\u001b[43m)\u001b[49m\n",
      "\u001b[36mFile \u001b[39m\u001b[32m~/Documents/WORK/Gestion_Perf_Cyclistes/db/db_session.py:21\u001b[39m, in \u001b[36mDB_Session.insert_user\u001b[39m\u001b[34m(self, db_user)\u001b[39m\n\u001b[32m     19\u001b[39m statement = \u001b[33m\"\u001b[39m\u001b[33mINSERT INTO user (username, email, password_hash, role) \u001b[39m\u001b[33m\"\u001b[39m\n\u001b[32m     20\u001b[39m statement += \u001b[33mf\u001b[39m\u001b[33m\"\u001b[39m\u001b[33mVALUES (\u001b[39m\u001b[38;5;132;01m{\u001b[39;00mdb_user.username\u001b[38;5;132;01m}\u001b[39;00m\u001b[33m, \u001b[39m\u001b[38;5;132;01m{\u001b[39;00mdb_user.email\u001b[38;5;132;01m}\u001b[39;00m\u001b[33m, \u001b[39m\u001b[38;5;132;01m{\u001b[39;00mdb_user.password_hash\u001b[38;5;132;01m}\u001b[39;00m\u001b[33m, \u001b[39m\u001b[38;5;132;01m{\u001b[39;00mdb_user.role\u001b[38;5;132;01m}\u001b[39;00m\u001b[33m)\u001b[39m\u001b[33m\"\u001b[39m\n\u001b[32m---> \u001b[39m\u001b[32m21\u001b[39m \u001b[43mcursor\u001b[49m\u001b[43m.\u001b[49m\u001b[43mexecute\u001b[49m\u001b[43m(\u001b[49m\u001b[43mstatement\u001b[49m\u001b[43m)\u001b[49m\n\u001b[32m     23\u001b[39m number_of_lines = cursor.rowcount     \n\u001b[32m     25\u001b[39m connection.commit()\n",
      "\u001b[31mOperationalError\u001b[39m: near \"Alaphilippe\": syntax error"
     ]
    }
   ],
   "source": [
    "from db.db_session import DB_Session\n",
    "from models.user import DB_User\n",
    "\n",
    "from core.password_tools import get_password_hash\n",
    "\n",
    "db_session = DB_Session()\n",
    "\n",
    "users = [ \n",
    "    (\"Julian Alaphilippe\", \"jul@yan.com\", get_password_hash(\"Julian\")),\n",
    "    (\"Tadej Pogacar\", \"tad@ej.com\", get_password_hash(\"Tadej\")),\n",
    "    (\"Jonas Vingegaard\", \"jon@as.com\", get_password_hash(\"Jonas\")),\n",
    "    (\"Antoine\", \"ant@oine.com\", get_password_hash(\"Antoine\")),\n",
    "    (\"Nicolas\", \"nic@olas.com\", get_password_hash(\"Nicolas\"))]\n",
    "\n",
    "for user in users :\n",
    "    db_user = DB_User(\n",
    "        username = user[0], \n",
    "        email = user[1],\n",
    "        password_hash= user[2], \n",
    "        role = str(\"cycliste\"))\n",
    "    \n",
    "    db_session.insert_user(db_user)\n"
   ]
  }
 ],
 "metadata": {
  "kernelspec": {
   "display_name": ".venv",
   "language": "python",
   "name": "python3"
  },
  "language_info": {
   "codemirror_mode": {
    "name": "ipython",
    "version": 3
   },
   "file_extension": ".py",
   "mimetype": "text/x-python",
   "name": "python",
   "nbconvert_exporter": "python",
   "pygments_lexer": "ipython3",
   "version": "3.12.3"
  }
 },
 "nbformat": 4,
 "nbformat_minor": 2
}
