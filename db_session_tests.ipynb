{
 "cells": [
  {
   "cell_type": "code",
   "execution_count": 1,
   "metadata": {},
   "outputs": [
    {
     "name": "stdout",
     "output_type": "stream",
     "text": [
      "Table 'user' créée avec succès !\n",
      "Table 'valid_token' créée avec succès !\n"
     ]
    }
   ],
   "source": [
    "import sqlite3\n",
    "\n",
    "database_path = \"db/gest_perf_cycl.db\"\n",
    "\n",
    "# Connexion à la base de données (créée si elle n'existe pas)\n",
    "with sqlite3.connect(database_path) as conn :\n",
    "    cursor = conn.cursor()\n",
    "\n",
    "    cursor.execute(\"DROP TABLE IF EXISTS user\")\n",
    "    conn.commit()\n",
    "\n",
    "    # Création de la table user\n",
    "    cursor.execute(\"\"\"\n",
    "        CREATE TABLE user (\n",
    "            id INTEGER NOT NULL, \n",
    "            username VARCHAR NOT NULL, \n",
    "            email VARCHAR, \n",
    "            password_hash VARCHAR NOT NULL, \n",
    "            role VARCHAR NOT NULL, \n",
    "            PRIMARY KEY (id)\n",
    "        );\n",
    "    \"\"\")\n",
    "\n",
    "    conn.commit()\n",
    "    print(\"Table 'user' créée avec succès !\")\n",
    "\n",
    "    cursor.execute(\"DROP TABLE IF EXISTS valid_token\")\n",
    "    conn.commit()\n",
    "\n",
    "    # Création de la table token \n",
    "    cursor.execute(\"\"\"\n",
    "        CREATE TABLE valid_token (\n",
    "            id INTEGER NOT NULL, \n",
    "            expires DATETIME NOT NULL, \n",
    "            token VARCHAR NOT NULL, \n",
    "            PRIMARY KEY (id)\n",
    "        );\n",
    "    \"\"\")\n",
    "\n",
    "    conn.commit()\n",
    "    print(\"Table 'valid_token' créée avec succès !\")\n"
   ]
  },
  {
   "cell_type": "code",
   "execution_count": 2,
   "metadata": {},
   "outputs": [
    {
     "name": "stdout",
     "output_type": "stream",
     "text": [
      "User admin créé succès !\n"
     ]
    }
   ],
   "source": [
    "from core.password_tools import get_password_hash\n",
    "\n",
    "with sqlite3.connect(database_path) as conn :\n",
    "    cursor = conn.cursor()\n",
    "    \n",
    "    password_hash = get_password_hash(\"admin\")\n",
    "\n",
    "    admin_values = (\"admin\", \"admin@admin.com\", password_hash, \"admin\")\n",
    "    \n",
    "    cursor.execute(\"\"\"\n",
    "        INSERT INTO user (username, email, password_hash, role ) \n",
    "        VALUES (?, ?, ?, ?) \"\"\", admin_values )\n",
    "\n",
    "    conn.commit()\n",
    "    print(f\"User {admin_values[0]} créé succès !\")\n",
    "\n",
    "\n"
   ]
  },
  {
   "cell_type": "code",
   "execution_count": 3,
   "metadata": {},
   "outputs": [
    {
     "name": "stdout",
     "output_type": "stream",
     "text": [
      "5 users ajoutés\n"
     ]
    }
   ],
   "source": [
    "from db.db_session import DB_Session\n",
    "from models.user import DB_User\n",
    "\n",
    "from core.password_tools import get_password_hash\n",
    "\n",
    "db_session = DB_Session()\n",
    "\n",
    "users = [ \n",
    "    (\"Julian\", \"jul@yan.com\", get_password_hash(\"Julian\")),\n",
    "    (\"Tadej\", \"tad@ej.com\", get_password_hash(\"Tadej\")),\n",
    "    (\"Jonas\", \"jon@as.com\", get_password_hash(\"Jonas\")),\n",
    "    (\"Antoine\", \"ant@oine.com\", get_password_hash(\"Antoine\")),\n",
    "    (\"Nicolas\", \"nic@olas.com\", get_password_hash(\"Nicolas\"))]\n",
    "\n",
    "count=0\n",
    "for user in users :\n",
    "    db_user = DB_User(\n",
    "        username = user[0], \n",
    "        email = user[1],\n",
    "        password_hash=user[2], \n",
    "        role = str(\"cycliste\"))\n",
    "    \n",
    "    db_session.insert_user(db_user)\n",
    "    count +=1\n",
    "\n",
    "print(f\"{count} users ajoutés\")\n"
   ]
  },
  {
   "cell_type": "code",
   "execution_count": 9,
   "metadata": {},
   "outputs": [
    {
     "name": "stdout",
     "output_type": "stream",
     "text": [
      "id=1 username='admin' email='admin@admin.com' password_hash='$2b$12$VdvI//0z6oVFy7mu9LU8ueGjr9.JnFojR7MydyiO5D9MF0ozUmZIO' role='admin'\n",
      "id=2 username='Julian' email='jul@yan.com' password_hash='$2b$12$co0QJ/Ur7zT1KXtgqtDKY.xmmWnd0ZkaJsrexiH.4BtPxVtLMw0pm' role='cycliste'\n",
      "id=3 username='Tadej' email='tad@ej.com' password_hash='$2b$12$z97wF0QwO1.DaZwa/sa07.V1Sgw5gsQ1YrcWjRvaEpHjwOWH2jnf2' role='cycliste'\n",
      "id=4 username='Jonas' email='jon@as.com' password_hash='$2b$12$VVGsplO7Dyx92fhlbnq9vev7zndA.rb/xzhQ.OCwjO0kwFDohF5ru' role='cycliste'\n",
      "id=5 username='Antoine' email='ant@oine.com' password_hash='$2b$12$JDJ1UCmAuiWEsnKiOeXbxO.Uc//6MtAFWxA0GyJcFUsGDf9DLt1FG' role='cycliste'\n",
      "id=6 username='Nicolas' email='nic@olas.com' password_hash='$2b$12$q6TOaNMNtefJgC82646fZOgEDl4Bbe2lyo.50C8vNCB45RtbUSIdK' role='cycliste'\n"
     ]
    }
   ],
   "source": [
    "from db.db_session import DB_Session\n",
    "from models.user import DB_User\n",
    "\n",
    "db_session = DB_Session()\n",
    "\n",
    "for user in db_session.get_user_list() :\n",
    "    print(user)"
   ]
  }
 ],
 "metadata": {
  "kernelspec": {
   "display_name": ".venv",
   "language": "python",
   "name": "python3"
  },
  "language_info": {
   "codemirror_mode": {
    "name": "ipython",
    "version": 3
   },
   "file_extension": ".py",
   "mimetype": "text/x-python",
   "name": "python",
   "nbconvert_exporter": "python",
   "pygments_lexer": "ipython3",
   "version": "3.12.3"
  }
 },
 "nbformat": 4,
 "nbformat_minor": 2
}
