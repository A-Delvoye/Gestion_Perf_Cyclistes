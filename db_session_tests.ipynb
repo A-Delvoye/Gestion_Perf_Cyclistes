{
 "cells": [
  {
   "cell_type": "code",
   "execution_count": null,
   "metadata": {},
   "outputs": [],
   "source": [
    "import sqlite3\n",
    "\n",
    "database_path = \"db/gest_perf_cycl.db\"\n",
    "\n",
    "# Connexion à la base de données (créée si elle n'existe pas)\n",
    "with sqlite3.connect(database_path) as conn :\n",
    "    cursor = conn.cursor()\n",
    "\n",
    "    # Création de la table user\n",
    "    cursor.execute(\"\"\"\n",
    "        CREATE TABLE IF NOT EXISTS user (\n",
    "            id INTEGER NOT NULL, \n",
    "            username VARCHAR NOT NULL, \n",
    "            email VARCHAR, \n",
    "            password_hash VARCHAR NOT NULL, \n",
    "            role VARCHAR NOT NULL, \n",
    "            PRIMARY KEY (id)\n",
    "        );\n",
    "    \"\"\")\n",
    "\n",
    "    conn.commit()\n",
    "    print(\"Table 'user' créée avec succès !\")\n",
    "\n",
    "    # Création de la table token \n",
    "    cursor.execute(\"\"\"\n",
    "        CREATE TABLE IF NOT EXISTS valid_token (\n",
    "            id INTEGER NOT NULL, \n",
    "            expires DATETIME NOT NULL, \n",
    "            token VARCHAR NOT NULL, \n",
    "            PRIMARY KEY (id)\n",
    "        );\n",
    "    \"\"\")\n",
    "\n",
    "    conn.commit()\n",
    "    print(\"Table 'valid_token' créée avec succès !\")\n"
   ]
  },
  {
   "cell_type": "code",
   "execution_count": null,
   "metadata": {},
   "outputs": [],
   "source": [
    "from core.password_tools import get_password_hash\n",
    "\n",
    "with sqlite3.connect(database_path) as conn :\n",
    "    cursor = conn.cursor()\n",
    "    \n",
    "    password_hash = get_password_hash(\"admin\")\n",
    "\n",
    "    admin_values = (\"admin\", \"admin@admin.com\", password_hash, \"admin\")\n",
    "    \n",
    "    cursor.execute(\"\"\"\n",
    "        INSERT INTO user (username, email, password_hash, role ) \n",
    "        VALUES (?, ?, ?, ?) \"\"\", admin_values )\n",
    "\n",
    "    conn.commit()\n",
    "    print(f\"User {admin_values[0]} créé succès !\")\n",
    "\n",
    "\n"
   ]
  },
  {
   "cell_type": "code",
   "execution_count": null,
   "metadata": {},
   "outputs": [],
   "source": [
    "from db.db_session import DB_Session\n",
    "from models.user import DB_User\n",
    "\n",
    "from core.password_tools import get_password_hash\n",
    "\n",
    "db_session = DB_Session()\n",
    "\n",
    "users = [ \n",
    "    (\"Julian Alaphilippe\", \"jul@yan.com\", get_password_hash(\"Julian\")),\n",
    "    (\"Tadej Pogacar\", \"tad@ej.com\", get_password_hash(\"Tadej\")),\n",
    "    (\"Jonas Vingegaard\", \"jon@as.com\", get_password_hash(\"Jonas\")),\n",
    "    (\"Antoine\", \"ant@oine.com\", get_password_hash(\"Antoine\")),\n",
    "    (\"Nicolas\", \"nic@olas.com\", get_password_hash(\"Nicolas\"))]\n",
    "\n",
    "for user in users :\n",
    "    db_user = DB_User(\n",
    "        username = str(user[0]), \n",
    "        email = str(user[1]),\n",
    "        password_hash= str(user[2]), \n",
    "        role = \"cycliste\")\n",
    "    db_session.insert_user( db_user)\n"
   ]
  }
 ],
 "metadata": {
  "kernelspec": {
   "display_name": ".venv",
   "language": "python",
   "name": "python3"
  },
  "language_info": {
   "codemirror_mode": {
    "name": "ipython",
    "version": 3
   },
   "file_extension": ".py",
   "mimetype": "text/x-python",
   "name": "python",
   "nbconvert_exporter": "python",
   "pygments_lexer": "ipython3",
   "version": "3.12.3"
  }
 },
 "nbformat": 4,
 "nbformat_minor": 2
}
