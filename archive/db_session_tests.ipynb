{
 "cells": [
  {
   "cell_type": "code",
   "execution_count": null,
   "metadata": {},
   "outputs": [
    {
     "name": "stdout",
     "output_type": "stream",
     "text": [
      "Table 'utilisateurs' créée avec succès !\n",
      "Table 'jetons_valides' créée avec succès !\n"
     ]
    }
   ],
   "source": [
    "import sqlite3\n",
    "from core.config import DB_NAME\n",
    "\n",
    "database_path = DB_NAME\n",
    "\n",
    "# Connexion à la base de données (créée si elle n'existe pas)\n",
    "with sqlite3.connect(database_path) as conn :\n",
    "    cursor = conn.cursor()\n",
    "\n",
    "    table_name = \"utilisateurs\"\n",
    "    cursor.execute(f\"DROP TABLE IF EXISTS {table_name}\")\n",
    "    conn.commit()\n",
    "\n",
    "    # Création de la table user\n",
    "    \n",
    "    cursor.execute(f\"\"\"\n",
    "        CREATE TABLE IF NOT EXISTS {table_name} (\n",
    "            id INTEGER NOT NULL, \n",
    "            username VARCHAR NOT NULL, \n",
    "            email VARCHAR, \n",
    "            password_hash VARCHAR NOT NULL, \n",
    "            role VARCHAR NOT NULL, \n",
    "            PRIMARY KEY (id)\n",
    "        );\n",
    "    \"\"\")\n",
    "\n",
    "    conn.commit()\n",
    "    print(f\"Table '{table_name}' créée avec succès !\")\n",
    "\n",
    "\n",
    "    table_name = \"jetons_valides\"\n",
    "    cursor.execute(f\"DROP TABLE IF EXISTS {table_name}\")\n",
    "    conn.commit()\n",
    "\n",
    "    # Création de la table token \n",
    "    cursor.execute(f\"\"\"\n",
    "        CREATE TABLE {table_name} (\n",
    "            id INTEGER NOT NULL, \n",
    "            expiration DATETIME NOT NULL, \n",
    "            jeton VARCHAR NOT NULL, \n",
    "            PRIMARY KEY (id)\n",
    "        );\n",
    "    \"\"\")\n",
    "\n",
    "    conn.commit()\n",
    "    print(f\"Table '{table_name}' créée avec succès !\")\n"
   ]
  },
  {
   "cell_type": "code",
   "execution_count": 20,
   "metadata": {},
   "outputs": [
    {
     "name": "stdout",
     "output_type": "stream",
     "text": [
      "admin\n",
      "cycliste\n"
     ]
    }
   ],
   "source": [
    "from core.api_roles import ApiRole\n",
    "\n",
    "for value in [ role.value for role in ApiRole] :\n",
    "    print (value)"
   ]
  },
  {
   "cell_type": "code",
   "execution_count": 10,
   "metadata": {},
   "outputs": [
    {
     "name": "stdout",
     "output_type": "stream",
     "text": [
      "Utilisateur coach créé succès !\n"
     ]
    }
   ],
   "source": [
    "from core.password_tools import get_password_hash\n",
    "\n",
    "with sqlite3.connect(database_path) as conn :\n",
    "    cursor = conn.cursor()\n",
    "    \n",
    "    password_hash = get_password_hash(\"admin\")\n",
    "\n",
    "    admin_values = (\"coach\", \"coach@coach.com\", password_hash, ApiRole.admin.value)\n",
    "    \n",
    "    table_name = \"Utilisateurs\"\n",
    "    cursor.execute(f\"\"\"\n",
    "        INSERT INTO {table_name} (username, email, password_hash, role ) \n",
    "        VALUES (?, ?, ?, ?) \"\"\", admin_values )\n",
    "\n",
    "    conn.commit()\n",
    "    print(f\"Utilisateur {admin_values[0]} créé succès !\")\n",
    "\n",
    "\n"
   ]
  },
  {
   "cell_type": "code",
   "execution_count": null,
   "metadata": {},
   "outputs": [
    {
     "name": "stdout",
     "output_type": "stream",
     "text": [
      "5 users ajoutés\n"
     ]
    }
   ],
   "source": [
    "from db.db_session import DB_Session\n",
    "from models.utilisateur_db import UtilisateurDB\n",
    "from core.api_roles import ApiRole\n",
    "from core.password_tools import get_password_hash\n",
    "\n",
    "db_session = DB_Session()\n",
    "\n",
    "users = [ \n",
    "    (\"Julian Dupont\", \"jul@yan.com\", get_password_hash(\"Julian\")),\n",
    "    (\"Tadej\", \"tad@ej.com\", get_password_hash(\"Tadej\")),\n",
    "    (\"Jonas\", \"jon@as.com\", get_password_hash(\"Jonas\")),\n",
    "    (\"Antoine\", \"ant@oine.com\", get_password_hash(\"Antoine\")),\n",
    "    (\"Nicolas\", \"nic@olas.com\", get_password_hash(\"Nicolas\"))]\n",
    "\n",
    "count=0\n",
    "for user in users :\n",
    "    db_user = UtilisateurDB(\n",
    "        username = user[0], \n",
    "        email = user[1],\n",
    "        password_hash=user[2], \n",
    "        role = ApiRole.cycliste.value)\n",
    "    \n",
    "    db_session.insert_user(db_user)\n",
    "    count +=1\n",
    "\n",
    "print(f\"{count} users ajoutés\")\n"
   ]
  },
  {
   "cell_type": "code",
   "execution_count": 12,
   "metadata": {},
   "outputs": [
    {
     "name": "stdout",
     "output_type": "stream",
     "text": [
      "id=1 username='coach' email='coach@coach.com' password_hash='$2b$12$hkB8gfQqmsSD1dXR98mBzeynZu16HJ9CAHrD5G/4gLVX8vqiO3jcm' role='admin'\n",
      "id=2 username='Julian Dupont' email='jul@yan.com' password_hash='$2b$12$kWlN2uJ4a1jpqqer42FFheNO6cnQJPYEgFzqYhKS7ZXuK3qZxuXQe' role='cycliste'\n",
      "id=3 username='Tadej' email='tad@ej.com' password_hash='$2b$12$YMu/0iqRp3Jx5D5S4gkHNuzXtd7QnsEnaNuzavPAuEu2m6.PZ87Ha' role='cycliste'\n",
      "id=4 username='Jonas' email='jon@as.com' password_hash='$2b$12$PKuOj/4vzCQjcOpaQOUSieo5Q2aAZdbjG7moEq3SK7J/LWOXMsAam' role='cycliste'\n",
      "id=5 username='Antoine' email='ant@oine.com' password_hash='$2b$12$8LY7D4Jr2tLz7xNXpSkf9OQzva5pBCgpgNVlBni1eF/HvjrUTv.3K' role='cycliste'\n",
      "id=6 username='Nicolas' email='nic@olas.com' password_hash='$2b$12$HvF0EtAmYcz9x.eX7UcPGet0PMJjFIKM9ruUiq4rkUW1/c/vQiz2.' role='cycliste'\n"
     ]
    }
   ],
   "source": [
    "from db.db_session import DB_Session\n",
    "from models.utilisateur_db import UtilisateurDB\n",
    "\n",
    "db_session = DB_Session()\n",
    "\n",
    "for user in db_session.get_user_list() :\n",
    "    print(user)"
   ]
  },
  {
   "cell_type": "code",
   "execution_count": 19,
   "metadata": {},
   "outputs": [
    {
     "name": "stdout",
     "output_type": "stream",
     "text": [
      "admin\n",
      "cycliste\n"
     ]
    }
   ],
   "source": []
  }
 ],
 "metadata": {
  "kernelspec": {
   "display_name": ".venv",
   "language": "python",
   "name": "python3"
  },
  "language_info": {
   "codemirror_mode": {
    "name": "ipython",
    "version": 3
   },
   "file_extension": ".py",
   "mimetype": "text/x-python",
   "name": "python",
   "nbconvert_exporter": "python",
   "pygments_lexer": "ipython3",
   "version": "3.12.3"
  }
 },
 "nbformat": 4,
 "nbformat_minor": 2
}
